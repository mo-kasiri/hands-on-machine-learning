{
 "cells": [
  {
   "cell_type": "code",
   "execution_count": 135,
   "id": "f9b90ff4",
   "metadata": {},
   "outputs": [],
   "source": [
    "import numpy as np\n",
    "import matplotlib.pyplot as plt"
   ]
  },
  {
   "cell_type": "code",
   "execution_count": 136,
   "id": "2018eeea",
   "metadata": {},
   "outputs": [],
   "source": [
    "# Generate dataset\n",
    "np.random.seed(42)\n",
    "m = 100\n",
    "x = np.random.randn(m, 3)\n",
    "true_theta = np.array([[1], [3], [4], [5]])   # bias=1, w1=3, w2=4, w3=5\n",
    "X_b = np.c_[np.ones((m, 1)), x]              # add bias column\n",
    "y = X_b.dot(true_theta) + np.random.randn(m,1)/2"
   ]
  },
  {
   "cell_type": "code",
   "execution_count": 137,
   "id": "07083f62",
   "metadata": {},
   "outputs": [
    {
     "data": {
      "text/plain": [
       "(100, 1)"
      ]
     },
     "execution_count": 137,
     "metadata": {},
     "output_type": "execute_result"
    }
   ],
   "source": [
    "y.shape"
   ]
  },
  {
   "cell_type": "code",
   "execution_count": 138,
   "id": "69c94fd7",
   "metadata": {},
   "outputs": [],
   "source": [
    "def MSE(y, y_hat):\n",
    "    return np.mean(y_hat - y)**2"
   ]
  },
  {
   "cell_type": "code",
   "execution_count": 139,
   "id": "cb1ef593",
   "metadata": {},
   "outputs": [
    {
     "data": {
      "text/plain": [
       "np.float64(0.010000000000000018)"
      ]
     },
     "execution_count": 139,
     "metadata": {},
     "output_type": "execute_result"
    }
   ],
   "source": [
    "# test\n",
    "MSE(np.array([1,2.2]), np.array([1,2]))"
   ]
  },
  {
   "cell_type": "code",
   "execution_count": 140,
   "id": "7b5ba25b",
   "metadata": {},
   "outputs": [],
   "source": [
    "# Gradient Descent\n",
    "lr = 0.01\n",
    "epoches = 1000\n",
    "losses = np.zeros(epoches)\n",
    "theta = np.random.randn(4,1)\n",
    "first_theta = theta\n",
    "\n",
    "for epochi in range(epoches):\n",
    "    y_hat = X_b.dot(theta)\n",
    "    loss = MSE(y, y_hat)\n",
    "    losses[epochi] = loss\n",
    "    grad = (2/m) * X_b.T.dot(y_hat - y)\n",
    "    theta = theta - lr * grad\n",
    "    "
   ]
  },
  {
   "cell_type": "code",
   "execution_count": 141,
   "id": "dbbbf331",
   "metadata": {},
   "outputs": [
    {
     "name": "stdout",
     "output_type": "stream",
     "text": [
      "First theta: [-1.59442766 -0.59937502  0.0052437   0.04698059]\n",
      "Learned theta: [1.05643374 2.96115539 3.97501604 4.94620025]\n",
      "True theta: [1 3 4 5]\n"
     ]
    },
    {
     "data": {
      "image/png": "[encoded data removed]",
      "text/plain": [
       "<Figure size 640x480 with 1 Axes>"
      ]
     },
     "metadata": {},
     "output_type": "display_data"
    }
   ],
   "source": [
    "print(\"First theta:\", first_theta.ravel())\n",
    "print(\"Learned theta:\", theta.ravel())\n",
    "print(\"True theta:\", true_theta.ravel())\n",
    "\n",
    "\n",
    "# Plot loss curve\n",
    "# plt.plot(losses)\n",
    "plt.plot(losses,'o',markerfacecolor='w',linewidth=.01)\n",
    "plt.xlabel(\"Epoch\")\n",
    "plt.ylabel(\"MSE Loss\")\n",
    "plt.title(\"Gradient Descent Convergence\")\n",
    "plt.show()"
   ]
  },
  {
   "cell_type": "code",
   "execution_count": 142,
   "id": "f142d8d0",
   "metadata": {},
   "outputs": [
    {
     "name": "stdout",
     "output_type": "stream",
     "text": [
      "[1.05643115] [[2.96116836 3.97501822 4.94620334]]\n"
     ]
    }
   ],
   "source": [
    "from sklearn.linear_model import LinearRegression\n",
    "model = LinearRegression()\n",
    "model.fit(x, y)\n",
    "print(model.intercept_, model.coef_)"
   ]
  }
 ],
 "metadata": {
  "kernelspec": {
   "display_name": "Python 3",
   "language": "python",
   "name": "python3"
  },
  "language_info": {
   "codemirror_mode": {
    "name": "ipython",
    "version": 3
   },
   "file_extension": ".py",
   "mimetype": "text/x-python",
   "name": "python",
   "nbconvert_exporter": "python",
   "pygments_lexer": "ipython3",
   "version": "3.13.5"
  }
 },
 "nbformat": 4,
 "nbformat_minor": 5
}
